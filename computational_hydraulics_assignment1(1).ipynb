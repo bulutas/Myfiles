{
  "nbformat": 4,
  "nbformat_minor": 0,
  "metadata": {
    "colab": {
      "name": "computational hydraulics assignment1",
      "provenance": []
    },
    "kernelspec": {
      "name": "python3",
      "display_name": "Python 3"
    }
  },
  "cells": [
    {
      "cell_type": "code",
      "metadata": {
        "id": "_skHq_Y4CKzA",
        "colab": {
          "base_uri": "https://localhost:8080/"
        },
        "outputId": "0bad977e-0011-47f4-b13a-7156ee3b051b"
      },
      "source": [
        "#--------------------Question 1 Finite Difference Method Solver--------------------------------\n",
        "\n",
        "import pandas as pd\n",
        "import numpy as np\n",
        "import matplotlib.pyplot as plt\n",
        "\n",
        "\n",
        "\n",
        "#n=9(last digit of student ID+5)\n",
        "a=(35-25)/(8) #step intervals \n",
        "\n",
        "\n",
        "#The matrix h_i was created by calculating the height domain with 1.25 step intervals from 35 to 25 meters.\n",
        "h_i=[35]\n",
        "number_of_steps=(35-25)/a\n",
        "an=35\n",
        "while an>25:\n",
        "  a=an-1.25\n",
        "  h_i.append(a)\n",
        "  an=a\n",
        "\n",
        "f=[]\n",
        "#f(Hi)=(31500*(hi**1.1))/(9.045*((hi-8)**0.5)-10) Function dependent on h that gives the emptying time\n",
        "for i in h_i:\n",
        "  x=(31500*(i**1.1))/(9.045*((i-8)**0.5)-10)\n",
        "  f.append(x)\n",
        "\n",
        "df = pd.DataFrame(list(zip(h_i,f)), columns = ['Hi(meter)', 'f(Hi)(second)'])\n",
        "#Using Simpson's Rules\n",
        "#I=(a/3)*[sum_of_end_ordinates+4*(even ordinates)+2*(odd ordinates)] that equation gives emptying time(s)\n",
        "\n",
        "odd_ordinates=df.iloc[::2].drop(0).drop(8)\n",
        "sum_of_odd_ordinates=odd_ordinates['f(Hi)(second)'].sum()\n",
        "even_ordinates=df['f(Hi)(second)'].iloc[1::2]\n",
        "sum_of_even_ordinates=even_ordinates.sum()\n",
        "end_ordinates=[df['f(Hi)(second)'].iloc[0],df['f(Hi)(second)'].iloc[8]]\n",
        "sum_of_end_ordinates=sum(end_ordinates)\n",
        "I=(1.25/3)*(sum_of_end_ordinates+4*sum_of_even_ordinates+2*sum_of_odd_ordinates)\n",
        "g=I/3600\n",
        "hour = float(\"{0:.2f}\".format(hour))\n",
        "print(df) \n",
        "\n",
        "\n",
        "\n",
        "print(\"Finite Difference Method Solver calculated the problem successfully\" \"\\n\"   ,\"------Emptying time was calculated as\",hour,\"hours--------\" )\n",
        "\n",
        "\n",
        "\n"
      ],
      "execution_count": 20,
      "outputs": [
        {
          "output_type": "stream",
          "text": [
            "   Hi(meter)  f(Hi)(second)\n",
            "0      35.00   42519.983219\n",
            "1      33.75   42105.329928\n",
            "2      32.50   41703.426684\n",
            "3      31.25   41317.401220\n",
            "4      30.00   40951.186255\n",
            "5      28.75   40609.781046\n",
            "6      27.50   40299.620287\n",
            "7      26.25   40029.105236\n",
            "8      25.00   39809.386529\n",
            "Finite Difference Method Solver calculated the problem successfully\n",
            " ------Emptying time was calculated as 113.94 hours--------\n"
          ],
          "name": "stdout"
        }
      ]
    },
    {
      "cell_type": "code",
      "metadata": {
        "id": "yyI397zgvRqi"
      },
      "source": [
        ""
      ],
      "execution_count": null,
      "outputs": []
    }
  ]
}